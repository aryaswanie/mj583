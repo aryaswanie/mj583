{
 "cells": [
  {
   "cell_type": "code",
   "execution_count": 29,
   "metadata": {},
   "outputs": [],
   "source": [
    "import csv\n",
    "import json\n",
    "from os import mkdir\n",
    "try:\n",
    "    mkdir('data')\n",
    "except FileExistsError:\n",
    "    pass"
   ]
  },
  {
   "cell_type": "code",
   "execution_count": 30,
   "metadata": {},
   "outputs": [],
   "source": [
    "nobel_winners = [\n",
    "{'category': 'Physiology or Medicine',\n",
    "  'name': 'César Milstein',\n",
    "  'nationality': 'Argentina',\n",
    "  'sex': 'male',\n",
    "  'year': 1984},\n",
    " {'category': 'Literature',\n",
    "  'name': 'Ivo Andric *',\n",
    "  'nationality': '',\n",
    "  'sex': 'male',\n",
    "  'year': 1961},\n",
    " {'category': 'Chemistry',\n",
    "  'name': 'Vladimir Prelog *',\n",
    "  'nationality': '',\n",
    "  'sex': 'male',\n",
    "  'year': 1975},\n",
    " {'category': 'Peace',\n",
    "  'name': 'Institut de Droit International',\n",
    "  'nationality': 'Belgium',\n",
    "  'sex': None,\n",
    "  'year': 1904}\n",
    "  ]\n"
   ]
  },
  {
   "cell_type": "code",
   "execution_count": 31,
   "metadata": {},
   "outputs": [
    {
     "data": {
      "text/plain": [
       "[{'category': 'Physiology or Medicine',\n",
       "  'name': 'César Milstein',\n",
       "  'nationality': 'Argentina',\n",
       "  'sex': 'male',\n",
       "  'year': 1984},\n",
       " {'category': 'Literature',\n",
       "  'name': 'Ivo Andric *',\n",
       "  'nationality': '',\n",
       "  'sex': 'male',\n",
       "  'year': 1961},\n",
       " {'category': 'Chemistry',\n",
       "  'name': 'Vladimir Prelog *',\n",
       "  'nationality': '',\n",
       "  'sex': 'male',\n",
       "  'year': 1975},\n",
       " {'category': 'Peace',\n",
       "  'name': 'Institut de Droit International',\n",
       "  'nationality': 'Belgium',\n",
       "  'sex': None,\n",
       "  'year': 1904}]"
      ]
     },
     "execution_count": 31,
     "metadata": {},
     "output_type": "execute_result"
    }
   ],
   "source": [
    "nobel_winners"
   ]
  },
  {
   "cell_type": "code",
   "execution_count": 32,
   "metadata": {},
   "outputs": [
    {
     "name": "stdout",
     "output_type": "stream",
     "text": [
      "[{'category': 'Physiology or Medicine', 'name': 'César Milstein', 'nationality': 'Argentina', 'sex': 'male', 'year': 1984}, {'category': 'Literature', 'name': 'Ivo Andric *', 'nationality': '', 'sex': 'male', 'year': 1961}, {'category': 'Chemistry', 'name': 'Vladimir Prelog *', 'nationality': '', 'sex': 'male', 'year': 1975}, {'category': 'Peace', 'name': 'Institut de Droit International', 'nationality': 'Belgium', 'sex': None, 'year': 1904}]\n"
     ]
    }
   ],
   "source": [
    "print(nobel_winners)"
   ]
  },
  {
   "cell_type": "code",
   "execution_count": 33,
   "metadata": {},
   "outputs": [],
   "source": [
    "# create a new file and write all the data to it\n",
    "f = open('data/nobel_winners.csv', 'w')\n",
    "cols = list(nobel_winners[0].keys())\n",
    "cols.sort()"
   ]
  },
  {
   "cell_type": "code",
   "execution_count": 34,
   "metadata": {},
   "outputs": [],
   "source": [
    "#loop through data and write to CSV\n",
    "with open('data/nobel_winners.csv', 'w') as f:\n",
    "    f.write(','.join(cols) + '\\n')\n",
    "    for o in nobel_winners:\n",
    "        row = [str(o[col]) for col in cols]\n",
    "        f.write(','.join(row) + '\\n')"
   ]
  },
  {
   "cell_type": "code",
   "execution_count": 35,
   "metadata": {},
   "outputs": [
    {
     "name": "stdout",
     "output_type": "stream",
     "text": [
      "category,name,nationality,sex,year\r\n",
      "Physiology or Medicine,César Milstein,Argentina,male,1984\r\n",
      "Literature,Ivo Andric *,,male,1961\r\n",
      "Chemistry,Vladimir Prelog *,,male,1975\r\n",
      "Peace,Institut de Droit International,Belgium,None,1904\r\n"
     ]
    }
   ],
   "source": [
    "cat data/nobel_winners.csv"
   ]
  },
  {
   "cell_type": "code",
   "execution_count": 36,
   "metadata": {},
   "outputs": [
    {
     "name": "stdout",
     "output_type": "stream",
     "text": [
      "['category', 'name', 'nationality', 'sex', 'year']\n",
      "['Physiology or Medicine', 'César Milstein', 'Argentina', 'male', '1984']\n",
      "['Literature', 'Ivo Andric *', '', 'male', '1961']\n",
      "['Chemistry', 'Vladimir Prelog *', '', 'male', '1975']\n",
      "['Peace', 'Institut de Droit International', 'Belgium', 'None', '1904']\n"
     ]
    }
   ],
   "source": [
    "#open the file\n",
    "with open('data/nobel_winners.csv') as f:\n",
    "    reader = csv.reader(f)\n",
    "    for row in reader:\n",
    "        print(row)"
   ]
  },
  {
   "cell_type": "code",
   "execution_count": 37,
   "metadata": {},
   "outputs": [],
   "source": [
    "# Better way to open the file\n",
    "with open('data/nobel_winners.csv') as f:\n",
    "    reader = csv.DictReader(f)\n",
    "    nobel_winners = list(reader)\n"
   ]
  },
  {
   "cell_type": "code",
   "execution_count": 38,
   "metadata": {},
   "outputs": [
    {
     "data": {
      "text/plain": [
       "[OrderedDict([('category', 'Physiology or Medicine'),\n",
       "              ('name', 'César Milstein'),\n",
       "              ('nationality', 'Argentina'),\n",
       "              ('sex', 'male'),\n",
       "              ('year', '1984')]),\n",
       " OrderedDict([('category', 'Literature'),\n",
       "              ('name', 'Ivo Andric *'),\n",
       "              ('nationality', ''),\n",
       "              ('sex', 'male'),\n",
       "              ('year', '1961')]),\n",
       " OrderedDict([('category', 'Chemistry'),\n",
       "              ('name', 'Vladimir Prelog *'),\n",
       "              ('nationality', ''),\n",
       "              ('sex', 'male'),\n",
       "              ('year', '1975')]),\n",
       " OrderedDict([('category', 'Peace'),\n",
       "              ('name', 'Institut de Droit International'),\n",
       "              ('nationality', 'Belgium'),\n",
       "              ('sex', 'None'),\n",
       "              ('year', '1904')])]"
      ]
     },
     "execution_count": 38,
     "metadata": {},
     "output_type": "execute_result"
    }
   ],
   "source": [
    "nobel_winners"
   ]
  },
  {
   "cell_type": "code",
   "execution_count": 39,
   "metadata": {},
   "outputs": [],
   "source": [
    "#transform text into number\n",
    "for w in nobel_winners:\n",
    "    w['year'] = int(w['year'])"
   ]
  },
  {
   "cell_type": "code",
   "execution_count": 40,
   "metadata": {},
   "outputs": [
    {
     "data": {
      "text/plain": [
       "[OrderedDict([('category', 'Physiology or Medicine'),\n",
       "              ('name', 'César Milstein'),\n",
       "              ('nationality', 'Argentina'),\n",
       "              ('sex', 'male'),\n",
       "              ('year', 1984)]),\n",
       " OrderedDict([('category', 'Literature'),\n",
       "              ('name', 'Ivo Andric *'),\n",
       "              ('nationality', ''),\n",
       "              ('sex', 'male'),\n",
       "              ('year', 1961)]),\n",
       " OrderedDict([('category', 'Chemistry'),\n",
       "              ('name', 'Vladimir Prelog *'),\n",
       "              ('nationality', ''),\n",
       "              ('sex', 'male'),\n",
       "              ('year', 1975)]),\n",
       " OrderedDict([('category', 'Peace'),\n",
       "              ('name', 'Institut de Droit International'),\n",
       "              ('nationality', 'Belgium'),\n",
       "              ('sex', 'None'),\n",
       "              ('year', 1904)])]"
      ]
     },
     "execution_count": 40,
     "metadata": {},
     "output_type": "execute_result"
    }
   ],
   "source": [
    "nobel_winners"
   ]
  },
  {
   "cell_type": "code",
   "execution_count": 42,
   "metadata": {},
   "outputs": [],
   "source": [
    "# convert to json \n",
    "with open('data/nobel_winners.json', 'w') as f:\n",
    "    json.dump(nobel_winners, f)"
   ]
  },
  {
   "cell_type": "code",
   "execution_count": 44,
   "metadata": {},
   "outputs": [
    {
     "data": {
      "text/plain": [
       "'[{\"category\": \"Physiology or Medicine\", \"name\": \"C\\\\u00e9sar Milstein\", \"nationality\": \"Argentina\", \"sex\": \"male\", \"year\": 1984}, {\"category\": \"Literature\", \"name\": \"Ivo Andric *\", \"nationality\": \"\", \"sex\": \"male\", \"year\": 1961}, {\"category\": \"Chemistry\", \"name\": \"Vladimir Prelog *\", \"nationality\": \"\", \"sex\": \"male\", \"year\": 1975}, {\"category\": \"Peace\", \"name\": \"Institut de Droit International\", \"nationality\": \"Belgium\", \"sex\": \"None\", \"year\": 1904}]'"
      ]
     },
     "execution_count": 44,
     "metadata": {},
     "output_type": "execute_result"
    }
   ],
   "source": [
    "open('data/nobel_winners.json').read()"
   ]
  },
  {
   "cell_type": "code",
   "execution_count": 45,
   "metadata": {},
   "outputs": [
    {
     "data": {
      "text/plain": [
       "[{'category': 'Physiology or Medicine',\n",
       "  'name': 'César Milstein',\n",
       "  'nationality': 'Argentina',\n",
       "  'sex': 'male',\n",
       "  'year': 1984},\n",
       " {'category': 'Literature',\n",
       "  'name': 'Ivo Andric *',\n",
       "  'nationality': '',\n",
       "  'sex': 'male',\n",
       "  'year': 1961},\n",
       " {'category': 'Chemistry',\n",
       "  'name': 'Vladimir Prelog *',\n",
       "  'nationality': '',\n",
       "  'sex': 'male',\n",
       "  'year': 1975},\n",
       " {'category': 'Peace',\n",
       "  'name': 'Institut de Droit International',\n",
       "  'nationality': 'Belgium',\n",
       "  'sex': 'None',\n",
       "  'year': 1904}]"
      ]
     },
     "execution_count": 45,
     "metadata": {},
     "output_type": "execute_result"
    }
   ],
   "source": [
    "# read the written json file\n",
    "with open('data/nobel_winners.json') as f:\n",
    "    nobel_winners = json.load(f)\n",
    "    \n",
    "nobel_winners"
   ]
  },
  {
   "cell_type": "code",
   "execution_count": null,
   "metadata": {},
   "outputs": [],
   "source": []
  }
 ],
 "metadata": {
  "kernelspec": {
   "display_name": "Python 3",
   "language": "python",
   "name": "python3"
  },
  "language_info": {
   "codemirror_mode": {
    "name": "ipython",
    "version": 3
   },
   "file_extension": ".py",
   "mimetype": "text/x-python",
   "name": "python",
   "nbconvert_exporter": "python",
   "pygments_lexer": "ipython3",
   "version": "3.6.3"
  }
 },
 "nbformat": 4,
 "nbformat_minor": 2
}
